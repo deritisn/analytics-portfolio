{
 "cells": [
  {
   "cell_type": "code",
   "execution_count": 44,
   "metadata": {},
   "outputs": [],
   "source": [
    "import pandas as pd\n",
    "import requests\n",
    "from tqdm import tqdm_notebook\n",
    "import json\n",
    "import os\n",
    "from sqlalchemy import create_engine\n",
    "import numpy as np\n",
    "import movies_api_key\n",
    "import config_etl\n",
    "import psycopg2"
   ]
  },
  {
   "cell_type": "markdown",
   "metadata": {},
   "source": [
    "Import csv of imdb_id's"
   ]
  },
  {
   "cell_type": "code",
   "execution_count": 8,
   "metadata": {},
   "outputs": [
    {
     "name": "stdout",
     "output_type": "stream",
     "text": [
      "     imdb_id\n",
      "0  tt0114709\n",
      "1  tt0113497\n",
      "2  tt0113228\n",
      "3  tt0114885\n",
      "4  tt0113041\n"
     ]
    }
   ],
   "source": [
    "#read id csv\n",
    "url = \"https://raw.githubusercontent.com/hakbrk/ETL-Project/refs/heads/master/Data/unique_indmID.csv\"\n",
    "imdb_id = pd.read_csv(url)\n",
    "print(imdb_id.head(5))"
   ]
  },
  {
   "cell_type": "code",
   "execution_count": 9,
   "metadata": {},
   "outputs": [],
   "source": [
    "imdb_id = imdb_id['imdb_id']"
   ]
  },
  {
   "cell_type": "markdown",
   "metadata": {},
   "source": [
    "Create functions to parse data as API calls are made.  By doing this it reduces the need for itterows or additional for loops later in the code."
   ]
  },
  {
   "cell_type": "code",
   "execution_count": 10,
   "metadata": {},
   "outputs": [],
   "source": [
    "def writer_list(writer, imdb):\n",
    "    final_list = []\n",
    "    name_list = writer.split(',')\n",
    "    for index in name_list:\n",
    "        name = index.split(' (')[0]\n",
    "        final_list.append({'imdb_id' : imdb,\n",
    "                         'first_name' : name.rsplit(' ', 1)[0],\n",
    "                         'last_name' : name.split()[-1]})\n",
    "    return final_list"
   ]
  },
  {
   "cell_type": "code",
   "execution_count": 11,
   "metadata": {},
   "outputs": [],
   "source": [
    "def process_list(name_string, imdb):\n",
    "    final_list = []\n",
    "    name_list = name_string.split(',')\n",
    "    for index in name_list:\n",
    "        final_list.append({'imdb_id' : imdb,\n",
    "                               'first_name' : index.rsplit(' ', 1)[0],\n",
    "                               'last_name' : index.split()[-1]})\n",
    "    return final_list"
   ]
  },
  {
   "cell_type": "markdown",
   "metadata": {},
   "source": [
    "API calls and parsing by use of functions"
   ]
  },
  {
   "cell_type": "code",
   "execution_count": 12,
   "metadata": {},
   "outputs": [
    {
     "name": "stdout",
     "output_type": "stream",
     "text": [
      "2b0e53c7\n"
     ]
    }
   ],
   "source": [
    "print(movies_api_key.api_key)"
   ]
  },
  {
   "cell_type": "code",
   "execution_count": 25,
   "metadata": {
    "scrolled": true
   },
   "outputs": [],
   "source": [
    "url = \"http://www.omdbapi.com//?i=\"\n",
    "api = f\"&apikey={movies_api_key.api_key}\"\n",
    "actor_data = []\n",
    "director_data = []\n",
    "writer_data = []\n",
    "awards_data = []\n",
    "ratings_data = []\n",
    "\n",
    "#instead of looping through all ids_ using (for id_ in tqdm_notebook(imdb_id), taking a list of 5\n",
    "for id_ in ['tt0114709','tt0113497','tt0113228','tt0114885','tt0113041']:\n",
    "    try:\n",
    "        response = requests.get(url + id_+api).json()\n",
    "    except JSONDecodeError:\n",
    "        print(f'error at {id_}')\n",
    "        response = requests.get(url + id_+api).json()\n",
    "    try:\n",
    "        director = response['Director']\n",
    "        temp_list = process_list(director, id_)\n",
    "        for item in temp_list:\n",
    "             director_data.append(item)\n",
    "        actor = response['Actors']\n",
    "        temp_list = process_list(actor, id_)\n",
    "        for item in temp_list:\n",
    "             actor_data.append(item)\n",
    "        writer = response['Writer']\n",
    "        temp_list = writer_list(writer, id_)\n",
    "        for item in temp_list:\n",
    "             writer_data.append(item)\n",
    "        rating = response['Rated']\n",
    "        ratings_data.append({'imdb_id' : id_,\n",
    "                             'ratings' : rating})\n",
    "        award = response['Awards']\n",
    "        awards_data.append({'imdb_id' : id_,\n",
    "                            'awards' : award})\n",
    "    except KeyError:\n",
    "        print(f'KeyError at {id_}')\n",
    "        director_data.append({'imdb_id' : id_,\n",
    "                         'first_name' : 'No Data',\n",
    "                         'last_name' : 'No Data'})\n",
    "        actor_data.append({'imdb_id' : id_,\n",
    "                         'first_name' : 'No Data',\n",
    "                         'last_name' : 'No Data'})\n",
    "        writer_data.append({'imdb_id' : id_,\n",
    "                         'first_name' : 'No Data',\n",
    "                         'last_name' : 'No Data'})\n",
    "        awards_data.append({'imdb_id' : id_,\n",
    "                            'awards' : 'No Data'})\n",
    "        ratings_data.append({'imdb_id' : id_,\n",
    "                             'ratings' : 'No Data'})"
   ]
  },
  {
   "cell_type": "markdown",
   "metadata": {},
   "source": [
    "Convert list of dictionaries to DataFrames"
   ]
  },
  {
   "cell_type": "code",
   "execution_count": 26,
   "metadata": {},
   "outputs": [],
   "source": [
    "actor_all_df = pd.DataFrame(actor_data)\n",
    "writer_all_df = pd.DataFrame(writer_data)\n",
    "director_all_df = pd.DataFrame(director_data)\n",
    "ratings_all_df = pd.DataFrame(ratings_data)\n",
    "awards_all_df = pd.DataFrame(awards_data)"
   ]
  },
  {
   "cell_type": "markdown",
   "metadata": {},
   "source": [
    "Replace blanks left by individuals with only one name."
   ]
  },
  {
   "cell_type": "code",
   "execution_count": 27,
   "metadata": {},
   "outputs": [],
   "source": [
    "actor_all_df.replace('', 'N/A', inplace = True)\n",
    "writer_all_df.replace('', 'N/A', inplace = True)\n",
    "director_all_df.replace('', 'N/A', inplace = True)"
   ]
  },
  {
   "cell_type": "markdown",
   "metadata": {},
   "source": [
    "Create individual DataFrames which will then be pushed to the database as tables."
   ]
  },
  {
   "cell_type": "code",
   "execution_count": 28,
   "metadata": {},
   "outputs": [],
   "source": [
    "film_actor_id_df = actor_all_df\n",
    "actor_id = film_actor_id_df.groupby(['last_name', 'first_name']).ngroup()\n",
    "film_actor_id_df['actor_id'] = actor_id\n",
    "film_actor_id_df['actor_id'] = 'a' + film_actor_id_df['actor_id'].astype(str)\n",
    "film_actor_df = film_actor_id_df.drop(['first_name', 'last_name'], axis=1)\n",
    "film_actor_df.drop_duplicates(subset=['imdb_id', 'actor_id'], inplace = True)\n",
    "actor_df = film_actor_id_df.drop(['imdb_id'], axis=1)\n",
    "actor_df.drop_duplicates(subset='actor_id', inplace = True)"
   ]
  },
  {
   "cell_type": "code",
   "execution_count": 29,
   "metadata": {},
   "outputs": [],
   "source": [
    "film_writer_id_df = writer_all_df\n",
    "writer_id = film_writer_id_df.groupby(['last_name', 'first_name']).ngroup()\n",
    "film_writer_id_df['writer_id'] = writer_id\n",
    "film_writer_id_df['writer_id'] = 'w' + film_writer_id_df['writer_id'].astype(str)\n",
    "film_writer_df = film_writer_id_df.drop(['first_name', 'last_name'], axis=1)\n",
    "film_writer_df.drop_duplicates(subset=['imdb_id', 'writer_id'], inplace = True)\n",
    "writer_df = film_writer_id_df.drop(['imdb_id'], axis=1)\n",
    "writer_df.drop_duplicates(subset='writer_id', inplace = True)"
   ]
  },
  {
   "cell_type": "code",
   "execution_count": 30,
   "metadata": {},
   "outputs": [],
   "source": [
    "film_director_id_df = director_all_df\n",
    "director_id = film_director_id_df.groupby(['last_name', 'first_name']).ngroup()\n",
    "film_director_id_df['director_id'] = director_id\n",
    "film_director_id_df['director_id'] = 'd' + film_director_id_df['director_id'].astype(str)\n",
    "film_director_df = film_director_id_df.drop(['first_name', 'last_name'], axis=1)\n",
    "film_director_df.drop_duplicates(subset=['imdb_id', 'director_id'], inplace = True)\n",
    "director_df = film_director_id_df.drop(['imdb_id'], axis=1)\n",
    "director_df.drop_duplicates(subset='director_id', inplace = True)"
   ]
  },
  {
   "cell_type": "code",
   "execution_count": 31,
   "metadata": {},
   "outputs": [],
   "source": [
    "film_ratings_df = ratings_all_df.drop_duplicates(subset=['imdb_id', 'ratings'])"
   ]
  },
  {
   "cell_type": "code",
   "execution_count": 32,
   "metadata": {},
   "outputs": [],
   "source": [
    "film_awards_df = awards_all_df.drop_duplicates(subset=['awards', 'imdb_id'])"
   ]
  },
  {
   "cell_type": "markdown",
   "metadata": {},
   "source": [
    "Confirm table structure and headers"
   ]
  },
  {
   "cell_type": "code",
   "execution_count": 34,
   "metadata": {},
   "outputs": [
    {
     "data": {
      "text/html": [
       "<div>\n",
       "<style scoped>\n",
       "    .dataframe tbody tr th:only-of-type {\n",
       "        vertical-align: middle;\n",
       "    }\n",
       "\n",
       "    .dataframe tbody tr th {\n",
       "        vertical-align: top;\n",
       "    }\n",
       "\n",
       "    .dataframe thead th {\n",
       "        text-align: right;\n",
       "    }\n",
       "</style>\n",
       "<table border=\"1\" class=\"dataframe\">\n",
       "  <thead>\n",
       "    <tr style=\"text-align: right;\">\n",
       "      <th></th>\n",
       "      <th>imdb_id</th>\n",
       "      <th>actor_id</th>\n",
       "    </tr>\n",
       "  </thead>\n",
       "  <tbody>\n",
       "    <tr>\n",
       "      <th>0</th>\n",
       "      <td>tt0114709</td>\n",
       "      <td>a5</td>\n",
       "    </tr>\n",
       "    <tr>\n",
       "      <th>1</th>\n",
       "      <td>tt0114709</td>\n",
       "      <td>a0</td>\n",
       "    </tr>\n",
       "    <tr>\n",
       "      <th>2</th>\n",
       "      <td>tt0114709</td>\n",
       "      <td>a12</td>\n",
       "    </tr>\n",
       "    <tr>\n",
       "      <th>3</th>\n",
       "      <td>tt0113497</td>\n",
       "      <td>a14</td>\n",
       "    </tr>\n",
       "    <tr>\n",
       "      <th>4</th>\n",
       "      <td>tt0113497</td>\n",
       "      <td>a4</td>\n",
       "    </tr>\n",
       "  </tbody>\n",
       "</table>\n",
       "</div>"
      ],
      "text/plain": [
       "     imdb_id actor_id\n",
       "0  tt0114709       a5\n",
       "1  tt0114709       a0\n",
       "2  tt0114709      a12\n",
       "3  tt0113497      a14\n",
       "4  tt0113497       a4"
      ]
     },
     "execution_count": 34,
     "metadata": {},
     "output_type": "execute_result"
    }
   ],
   "source": [
    "film_actor_df.head()"
   ]
  },
  {
   "cell_type": "code",
   "execution_count": 35,
   "metadata": {},
   "outputs": [
    {
     "data": {
      "text/html": [
       "<div>\n",
       "<style scoped>\n",
       "    .dataframe tbody tr th:only-of-type {\n",
       "        vertical-align: middle;\n",
       "    }\n",
       "\n",
       "    .dataframe tbody tr th {\n",
       "        vertical-align: top;\n",
       "    }\n",
       "\n",
       "    .dataframe thead th {\n",
       "        text-align: right;\n",
       "    }\n",
       "</style>\n",
       "<table border=\"1\" class=\"dataframe\">\n",
       "  <thead>\n",
       "    <tr style=\"text-align: right;\">\n",
       "      <th></th>\n",
       "      <th>first_name</th>\n",
       "      <th>last_name</th>\n",
       "      <th>actor_id</th>\n",
       "    </tr>\n",
       "  </thead>\n",
       "  <tbody>\n",
       "    <tr>\n",
       "      <th>0</th>\n",
       "      <td>Tom</td>\n",
       "      <td>Hanks</td>\n",
       "      <td>a5</td>\n",
       "    </tr>\n",
       "    <tr>\n",
       "      <th>1</th>\n",
       "      <td>Tim</td>\n",
       "      <td>Allen</td>\n",
       "      <td>a0</td>\n",
       "    </tr>\n",
       "    <tr>\n",
       "      <th>2</th>\n",
       "      <td>Don</td>\n",
       "      <td>Rickles</td>\n",
       "      <td>a12</td>\n",
       "    </tr>\n",
       "    <tr>\n",
       "      <th>3</th>\n",
       "      <td>Robin</td>\n",
       "      <td>Williams</td>\n",
       "      <td>a14</td>\n",
       "    </tr>\n",
       "    <tr>\n",
       "      <th>4</th>\n",
       "      <td>Kirsten</td>\n",
       "      <td>Dunst</td>\n",
       "      <td>a4</td>\n",
       "    </tr>\n",
       "  </tbody>\n",
       "</table>\n",
       "</div>"
      ],
      "text/plain": [
       "  first_name last_name actor_id\n",
       "0        Tom     Hanks       a5\n",
       "1        Tim     Allen       a0\n",
       "2        Don   Rickles      a12\n",
       "3      Robin  Williams      a14\n",
       "4    Kirsten     Dunst       a4"
      ]
     },
     "execution_count": 35,
     "metadata": {},
     "output_type": "execute_result"
    }
   ],
   "source": [
    "actor_df.head()"
   ]
  },
  {
   "cell_type": "code",
   "execution_count": 36,
   "metadata": {},
   "outputs": [
    {
     "data": {
      "text/html": [
       "<div>\n",
       "<style scoped>\n",
       "    .dataframe tbody tr th:only-of-type {\n",
       "        vertical-align: middle;\n",
       "    }\n",
       "\n",
       "    .dataframe tbody tr th {\n",
       "        vertical-align: top;\n",
       "    }\n",
       "\n",
       "    .dataframe thead th {\n",
       "        text-align: right;\n",
       "    }\n",
       "</style>\n",
       "<table border=\"1\" class=\"dataframe\">\n",
       "  <thead>\n",
       "    <tr style=\"text-align: right;\">\n",
       "      <th></th>\n",
       "      <th>imdb_id</th>\n",
       "      <th>writer_id</th>\n",
       "    </tr>\n",
       "  </thead>\n",
       "  <tbody>\n",
       "    <tr>\n",
       "      <th>0</th>\n",
       "      <td>tt0114709</td>\n",
       "      <td>w6</td>\n",
       "    </tr>\n",
       "    <tr>\n",
       "      <th>1</th>\n",
       "      <td>tt0114709</td>\n",
       "      <td>w1</td>\n",
       "    </tr>\n",
       "    <tr>\n",
       "      <th>2</th>\n",
       "      <td>tt0114709</td>\n",
       "      <td>w9</td>\n",
       "    </tr>\n",
       "    <tr>\n",
       "      <th>3</th>\n",
       "      <td>tt0113497</td>\n",
       "      <td>w4</td>\n",
       "    </tr>\n",
       "    <tr>\n",
       "      <th>4</th>\n",
       "      <td>tt0113497</td>\n",
       "      <td>w11</td>\n",
       "    </tr>\n",
       "  </tbody>\n",
       "</table>\n",
       "</div>"
      ],
      "text/plain": [
       "     imdb_id writer_id\n",
       "0  tt0114709        w6\n",
       "1  tt0114709        w1\n",
       "2  tt0114709        w9\n",
       "3  tt0113497        w4\n",
       "4  tt0113497       w11"
      ]
     },
     "execution_count": 36,
     "metadata": {},
     "output_type": "execute_result"
    }
   ],
   "source": [
    "film_writer_df.head()"
   ]
  },
  {
   "cell_type": "code",
   "execution_count": 37,
   "metadata": {},
   "outputs": [
    {
     "data": {
      "text/html": [
       "<div>\n",
       "<style scoped>\n",
       "    .dataframe tbody tr th:only-of-type {\n",
       "        vertical-align: middle;\n",
       "    }\n",
       "\n",
       "    .dataframe tbody tr th {\n",
       "        vertical-align: top;\n",
       "    }\n",
       "\n",
       "    .dataframe thead th {\n",
       "        text-align: right;\n",
       "    }\n",
       "</style>\n",
       "<table border=\"1\" class=\"dataframe\">\n",
       "  <thead>\n",
       "    <tr style=\"text-align: right;\">\n",
       "      <th></th>\n",
       "      <th>first_name</th>\n",
       "      <th>last_name</th>\n",
       "      <th>writer_id</th>\n",
       "    </tr>\n",
       "  </thead>\n",
       "  <tbody>\n",
       "    <tr>\n",
       "      <th>0</th>\n",
       "      <td>John</td>\n",
       "      <td>Lasseter</td>\n",
       "      <td>w6</td>\n",
       "    </tr>\n",
       "    <tr>\n",
       "      <th>1</th>\n",
       "      <td>Pete</td>\n",
       "      <td>Docter</td>\n",
       "      <td>w1</td>\n",
       "    </tr>\n",
       "    <tr>\n",
       "      <th>2</th>\n",
       "      <td>Andrew</td>\n",
       "      <td>Stanton</td>\n",
       "      <td>w9</td>\n",
       "    </tr>\n",
       "    <tr>\n",
       "      <th>3</th>\n",
       "      <td>Jonathan</td>\n",
       "      <td>Hensleigh</td>\n",
       "      <td>w4</td>\n",
       "    </tr>\n",
       "    <tr>\n",
       "      <th>4</th>\n",
       "      <td>Greg</td>\n",
       "      <td>Taylor</td>\n",
       "      <td>w11</td>\n",
       "    </tr>\n",
       "  </tbody>\n",
       "</table>\n",
       "</div>"
      ],
      "text/plain": [
       "  first_name  last_name writer_id\n",
       "0       John   Lasseter        w6\n",
       "1       Pete     Docter        w1\n",
       "2     Andrew    Stanton        w9\n",
       "3   Jonathan  Hensleigh        w4\n",
       "4       Greg     Taylor       w11"
      ]
     },
     "execution_count": 37,
     "metadata": {},
     "output_type": "execute_result"
    }
   ],
   "source": [
    "writer_df.head()"
   ]
  },
  {
   "cell_type": "code",
   "execution_count": 38,
   "metadata": {},
   "outputs": [
    {
     "data": {
      "text/html": [
       "<div>\n",
       "<style scoped>\n",
       "    .dataframe tbody tr th:only-of-type {\n",
       "        vertical-align: middle;\n",
       "    }\n",
       "\n",
       "    .dataframe tbody tr th {\n",
       "        vertical-align: top;\n",
       "    }\n",
       "\n",
       "    .dataframe thead th {\n",
       "        text-align: right;\n",
       "    }\n",
       "</style>\n",
       "<table border=\"1\" class=\"dataframe\">\n",
       "  <thead>\n",
       "    <tr style=\"text-align: right;\">\n",
       "      <th></th>\n",
       "      <th>imdb_id</th>\n",
       "      <th>director_id</th>\n",
       "    </tr>\n",
       "  </thead>\n",
       "  <tbody>\n",
       "    <tr>\n",
       "      <th>0</th>\n",
       "      <td>tt0114709</td>\n",
       "      <td>d2</td>\n",
       "    </tr>\n",
       "    <tr>\n",
       "      <th>1</th>\n",
       "      <td>tt0113497</td>\n",
       "      <td>d1</td>\n",
       "    </tr>\n",
       "    <tr>\n",
       "      <th>2</th>\n",
       "      <td>tt0113228</td>\n",
       "      <td>d0</td>\n",
       "    </tr>\n",
       "    <tr>\n",
       "      <th>3</th>\n",
       "      <td>tt0114885</td>\n",
       "      <td>d4</td>\n",
       "    </tr>\n",
       "    <tr>\n",
       "      <th>4</th>\n",
       "      <td>tt0113041</td>\n",
       "      <td>d3</td>\n",
       "    </tr>\n",
       "  </tbody>\n",
       "</table>\n",
       "</div>"
      ],
      "text/plain": [
       "     imdb_id director_id\n",
       "0  tt0114709          d2\n",
       "1  tt0113497          d1\n",
       "2  tt0113228          d0\n",
       "3  tt0114885          d4\n",
       "4  tt0113041          d3"
      ]
     },
     "execution_count": 38,
     "metadata": {},
     "output_type": "execute_result"
    }
   ],
   "source": [
    "film_director_df.head()"
   ]
  },
  {
   "cell_type": "code",
   "execution_count": 39,
   "metadata": {},
   "outputs": [
    {
     "data": {
      "text/html": [
       "<div>\n",
       "<style scoped>\n",
       "    .dataframe tbody tr th:only-of-type {\n",
       "        vertical-align: middle;\n",
       "    }\n",
       "\n",
       "    .dataframe tbody tr th {\n",
       "        vertical-align: top;\n",
       "    }\n",
       "\n",
       "    .dataframe thead th {\n",
       "        text-align: right;\n",
       "    }\n",
       "</style>\n",
       "<table border=\"1\" class=\"dataframe\">\n",
       "  <thead>\n",
       "    <tr style=\"text-align: right;\">\n",
       "      <th></th>\n",
       "      <th>first_name</th>\n",
       "      <th>last_name</th>\n",
       "      <th>director_id</th>\n",
       "    </tr>\n",
       "  </thead>\n",
       "  <tbody>\n",
       "    <tr>\n",
       "      <th>0</th>\n",
       "      <td>John</td>\n",
       "      <td>Lasseter</td>\n",
       "      <td>d2</td>\n",
       "    </tr>\n",
       "    <tr>\n",
       "      <th>1</th>\n",
       "      <td>Joe</td>\n",
       "      <td>Johnston</td>\n",
       "      <td>d1</td>\n",
       "    </tr>\n",
       "    <tr>\n",
       "      <th>2</th>\n",
       "      <td>Howard</td>\n",
       "      <td>Deutch</td>\n",
       "      <td>d0</td>\n",
       "    </tr>\n",
       "    <tr>\n",
       "      <th>3</th>\n",
       "      <td>Forest</td>\n",
       "      <td>Whitaker</td>\n",
       "      <td>d4</td>\n",
       "    </tr>\n",
       "    <tr>\n",
       "      <th>4</th>\n",
       "      <td>Charles</td>\n",
       "      <td>Shyer</td>\n",
       "      <td>d3</td>\n",
       "    </tr>\n",
       "  </tbody>\n",
       "</table>\n",
       "</div>"
      ],
      "text/plain": [
       "  first_name last_name director_id\n",
       "0       John  Lasseter          d2\n",
       "1        Joe  Johnston          d1\n",
       "2     Howard    Deutch          d0\n",
       "3     Forest  Whitaker          d4\n",
       "4    Charles     Shyer          d3"
      ]
     },
     "execution_count": 39,
     "metadata": {},
     "output_type": "execute_result"
    }
   ],
   "source": [
    "director_df.head()"
   ]
  },
  {
   "cell_type": "markdown",
   "metadata": {},
   "source": [
    "Below code can be used to call data from csv files to save time of making API calls"
   ]
  },
  {
   "cell_type": "markdown",
   "metadata": {},
   "source": [
    "Initiate connection to database and verify tables present in database - insert your postgress username and password"
   ]
  },
  {
   "cell_type": "code",
   "execution_count": 47,
   "metadata": {},
   "outputs": [],
   "source": [
    "#SQL login info\n",
    "protocol = \"postgresql\"\n",
    "url = \"localhost\"\n",
    "port = 5432 # ur port might be 5432\n",
    "db = \"movies_db\"\n",
    "connection_string = f\"{protocol}://{config_etl.username}:{config_etl.password}@{url}/{db}\"\n",
    "engine = create_engine(connection_string)\n"
   ]
  },
  {
   "cell_type": "markdown",
   "metadata": {},
   "source": [
    "Push DataFrames to the database as tables"
   ]
  },
  {
   "cell_type": "code",
   "execution_count": 48,
   "metadata": {},
   "outputs": [
    {
     "data": {
      "text/plain": [
       "5"
      ]
     },
     "execution_count": 48,
     "metadata": {},
     "output_type": "execute_result"
    }
   ],
   "source": [
    "actor_df.to_sql(name='actor', con=engine, if_exists='append', index=False)\n",
    "director_df.to_sql(name='director', con=engine, if_exists='append', index=False)\n",
    "writer_df.to_sql(name='writer', con=engine, if_exists='append', index=False)\n",
    "film_actor_df.to_sql(name='film_actor', con=engine, if_exists='append', index=False)\n",
    "film_director_df.to_sql(name='film_director', con=engine, if_exists='append', index=False)\n",
    "film_writer_df.to_sql(name='film_writer', con=engine, if_exists='append', index=False)\n",
    "film_ratings_df.to_sql(name='film_rating', con=engine, if_exists='append', index=False)\n",
    "film_awards_df.to_sql(name='film_awards', con=engine, if_exists='append', index=False)"
   ]
  },
  {
   "cell_type": "markdown",
   "metadata": {},
   "source": [
    "Create csv files for later use if needed."
   ]
  },
  {
   "cell_type": "code",
   "execution_count": null,
   "metadata": {},
   "outputs": [],
   "source": [
    "# actor_df.to_csv('actor_df.csv', index=False)\n",
    "# director_df.to_csv('director_df.csv', index=False)\n",
    "# writer_df.to_csv('writer_df.csv', index=False)\n",
    "# film_actor_df.to_csv('film_actor_df.csv', index=False)\n",
    "# film_director_df.to_csv('film_director_df.csv', index=False)\n",
    "# film_writer_df.to_csv('film_writer_df.csv', index=False)\n",
    "# film_ratings_df.to_csv('film_ratings_df.csv', index=False)\n",
    "# film_awards_df.to_csv('film_awards_df.csv', index=False)"
   ]
  },
  {
   "cell_type": "code",
   "execution_count": null,
   "metadata": {},
   "outputs": [],
   "source": []
  }
 ],
 "metadata": {
  "kernelspec": {
   "display_name": "Python 3 (ipykernel)",
   "language": "python",
   "name": "python3"
  },
  "language_info": {
   "codemirror_mode": {
    "name": "ipython",
    "version": 3
   },
   "file_extension": ".py",
   "mimetype": "text/x-python",
   "name": "python",
   "nbconvert_exporter": "python",
   "pygments_lexer": "ipython3",
   "version": "3.12.7"
  }
 },
 "nbformat": 4,
 "nbformat_minor": 4
}
